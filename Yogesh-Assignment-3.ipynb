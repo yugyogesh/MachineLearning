{
 "cells": [
  {
   "cell_type": "markdown",
   "metadata": {},
   "source": [
    "1.1 Write a Python Program to implement your own myreduce() function which works exactly\n",
    "like Python's built-in function reduce()."
   ]
  },
  {
   "cell_type": "code",
   "execution_count": 2,
   "metadata": {},
   "outputs": [
    {
     "name": "stdout",
     "output_type": "stream",
     "text": [
      "Sum of list numbers: 10\n",
      "Multiplication of list numbers: 24\n"
     ]
    }
   ],
   "source": [
    "def my_sum(x, y):\n",
    "    return x + y\n",
    "\n",
    "def my_multi(x, y):\n",
    "    return x * y\n",
    "\n",
    "def my_reduce(func_name, lst):\n",
    "    x = lst[0]\n",
    "    for y in lst[1:]:\n",
    "        x = func_name(x, y)\n",
    "    return x\n",
    "\n",
    "num = [1, 2, 3, 4]\n",
    "result_sum = my_reduce(my_sum, num)\n",
    "result_multi = my_reduce(my_multi, num)\n",
    "print (\"Sum of list numbers: {}\\nMultiplication of list numbers: {}\".format(result_sum, result_multi))"
   ]
  },
  {
   "cell_type": "markdown",
   "metadata": {},
   "source": [
    "1.2 Write a Python program to implement your own myfilter() function which works exactly\n",
    "like Python's built-in function filter()."
   ]
  },
  {
   "cell_type": "code",
   "execution_count": 4,
   "metadata": {},
   "outputs": [
    {
     "data": {
      "text/plain": [
       "['Yogesh', 'Yogesh']"
      ]
     },
     "execution_count": 4,
     "metadata": {},
     "output_type": "execute_result"
    }
   ],
   "source": [
    "def check_name(name):\n",
    "    if name == 'Yogesh':\n",
    "        return name\n",
    "    \n",
    "def my_filter(func_name, lst):\n",
    "    filter_names = []\n",
    "    for x in lst:\n",
    "        if func_name(x):\n",
    "            filter_names.append(x)\n",
    "    return filter_names\n",
    "\n",
    "names = ['abcd', 'Yogesh', 'Yogesh', 'khurana']\n",
    "my_filter(check_name, names)\n"
   ]
  },
  {
   "cell_type": "markdown",
   "metadata": {},
   "source": [
    "2. Implement List comprehensions to produce the following lists.\n",
    "Write List comprehensions to produce the following Lists\n"
   ]
  },
  {
   "cell_type": "code",
   "execution_count": 18,
   "metadata": {},
   "outputs": [
    {
     "name": "stdout",
     "output_type": "stream",
     "text": [
      "['x', 'xx', 'xxx', 'xxxx', 'y', 'yy', 'yyy', 'yyyy', 'z', 'zz', 'zzz', 'zzzz']\n",
      "['x', 'y', 'z', 'xx', 'yy', 'zz', 'xxx', 'yyy', 'zzz', 'xxxx', 'yyyy', 'zzzz']\n",
      "[[2], [3], [4], [3], [4], [5], [4], [5], [6]]\n",
      "[[2, 3, 4, 5], [3, 4, 5, 6], [4, 5, 6, 7], [5, 6, 7, 8]]\n",
      "[(1, 1), (2, 1), (3, 1), (1, 2), (2, 2), (3, 2), (1, 3), (2, 3), (3, 3)]\n"
     ]
    }
   ],
   "source": [
    "print ([word * i for word in ['x', 'y', 'z'] for i in range(1, 5)])\n",
    "print ([word * i for i in range(1, 5) for word in ['x', 'y', 'z']])\n",
    "print ([[x + y] for y in range(3) for x in range(2, 5)])\n",
    "print ([[x + y for x in range(2, 6)] for y in range(0, 4)])\n",
    "print ([(x,y) for y in range(1, 4) for x in range (1, 4)])"
   ]
  }
 ],
 "metadata": {
  "kernelspec": {
   "display_name": "Python 3",
   "language": "python",
   "name": "python3"
  },
  "language_info": {
   "codemirror_mode": {
    "name": "ipython",
    "version": 3
   },
   "file_extension": ".py",
   "mimetype": "text/x-python",
   "name": "python",
   "nbconvert_exporter": "python",
   "pygments_lexer": "ipython3",
   "version": "3.7.6"
  }
 },
 "nbformat": 4,
 "nbformat_minor": 4
}
