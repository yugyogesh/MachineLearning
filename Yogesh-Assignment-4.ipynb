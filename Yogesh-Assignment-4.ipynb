{
 "cells": [
  {
   "cell_type": "markdown",
   "metadata": {},
   "source": [
    "1.1 Write a Python Program(with class concepts) to find the area of the triangle using the below\n",
    "formula.\n",
    "area = (s*(s-a)*(s-b)*(s-c)) ** 0.5\n",
    "Function to take the length of the sides of triangle from user should be defined in the parent\n",
    "class and function to calculate the area should be defined in subclass."
   ]
  },
  {
   "cell_type": "code",
   "execution_count": 2,
   "metadata": {},
   "outputs": [
    {
     "name": "stdout",
     "output_type": "stream",
     "text": [
      "Enter the value of a: 5\n",
      "Enter the value of b: 4\n",
      "Enter the value of c: 3\n",
      "Area of triangle: 6.000000\n"
     ]
    }
   ],
   "source": [
    "class length_sides:\n",
    "    def __init__(self):\n",
    "        self.a = float(input(\"Enter the value of a: \"))\n",
    "        self.b = float(input(\"Enter the value of b: \"))\n",
    "        self.c = float(input(\"Enter the value of c: \"))\n",
    "        \n",
    "class area(length_sides):\n",
    "    def area_triangle(self):\n",
    "        s = (self.a + self.b + self.c ) / 2\n",
    "        print (\"Area of triangle: %f\"%(s*(s-self.a)*(s-self.b)*(s-self.c)) ** 0.5)\n",
    "        \n",
    "j = area()\n",
    "k = j.area_triangle()"
   ]
  },
  {
   "cell_type": "markdown",
   "metadata": {},
   "source": [
    "1.2 Write a function filter_long_words() that takes a list of words and an integer n and returns\n",
    "the list of words that are longer than n."
   ]
  },
  {
   "cell_type": "code",
   "execution_count": 9,
   "metadata": {},
   "outputs": [
    {
     "data": {
      "text/plain": [
       "['jklmnop', 'abcdefgh']"
      ]
     },
     "execution_count": 9,
     "metadata": {},
     "output_type": "execute_result"
    }
   ],
   "source": [
    "def filter_long_words(words,n):\n",
    "    long_words = []\n",
    "    for i in words:\n",
    "        if len(i) > n:\n",
    "            long_words.append(i)\n",
    "    return long_words\n",
    "            \n",
    "lst = ['a', 'bcd', 'efghi', 'jklmnop', 'abcdefgh']\n",
    "num = 5\n",
    "filter_long_words(lst, num)\n"
   ]
  },
  {
   "cell_type": "markdown",
   "metadata": {},
   "source": [
    "2.1 Write a Python program using function concept that maps list of words into a list of integers\n",
    "representing the lengths of the corresponding words.\n",
    "Hint: If a list [ ab,cde,erty] is passed on to the python function output should come as [2,3,4]\n",
    "Here 2,3 and 4 are the lengths of the words in the list."
   ]
  },
  {
   "cell_type": "code",
   "execution_count": 12,
   "metadata": {},
   "outputs": [
    {
     "data": {
      "text/plain": [
       "[1, 3, 5, 7, 8]"
      ]
     },
     "execution_count": 12,
     "metadata": {},
     "output_type": "execute_result"
    }
   ],
   "source": [
    "def Find_words_length(words):\n",
    "    words_len = []\n",
    "    for i in words:\n",
    "        words_len.append(len(i))\n",
    "    return words_len\n",
    "            \n",
    "lst = ['a', 'bcd', 'efghi', 'jklmnop', 'abcdefgh']\n",
    "Find_words_length(lst)"
   ]
  },
  {
   "cell_type": "markdown",
   "metadata": {},
   "source": [
    "2.2 Write a Python function which takes a character (i.e. a string of length 1) and returns True if\n",
    "it is a vowel, False otherwise."
   ]
  },
  {
   "cell_type": "code",
   "execution_count": 13,
   "metadata": {},
   "outputs": [
    {
     "data": {
      "text/plain": [
       "True"
      ]
     },
     "execution_count": 13,
     "metadata": {},
     "output_type": "execute_result"
    }
   ],
   "source": [
    "def find_vowel(character):\n",
    "    if character in ['a','i','e','o','u'] :\n",
    "        return True \n",
    "    else:\n",
    "        return False\n",
    "\n",
    "find_vowel(\"e\")"
   ]
  }
 ],
 "metadata": {
  "kernelspec": {
   "display_name": "Python 3",
   "language": "python",
   "name": "python3"
  },
  "language_info": {
   "codemirror_mode": {
    "name": "ipython",
    "version": 3
   },
   "file_extension": ".py",
   "mimetype": "text/x-python",
   "name": "python",
   "nbconvert_exporter": "python",
   "pygments_lexer": "ipython3",
   "version": "3.7.6"
  }
 },
 "nbformat": 4,
 "nbformat_minor": 4
}
